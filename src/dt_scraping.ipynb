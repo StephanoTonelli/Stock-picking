{
 "cells": [
  {
   "cell_type": "markdown",
   "metadata": {},
   "source": [
    "First importing the libraries"
   ]
  },
  {
   "cell_type": "code",
   "execution_count": 5,
   "metadata": {},
   "outputs": [],
   "source": [
    "import pandas as pd\n",
    "import numpy as np\n",
    "import requests\n",
    "from bs4 import BeautifulSoup as bs\n",
    "import time\n"
   ]
  },
  {
   "cell_type": "markdown",
   "metadata": {},
   "source": [
    "## URLs for the first table - Investing (Stock Overview)"
   ]
  },
  {
   "cell_type": "code",
   "execution_count": 6,
   "metadata": {},
   "outputs": [
    {
     "data": {
      "text/plain": [
       "['https://au.investing.com/equities/bb-renda-corporativa',\n",
       " 'https://au.investing.com/equities/itauunibanco-pn-edj-n1']"
      ]
     },
     "metadata": {},
     "output_type": "display_data"
    }
   ],
   "source": [
    "pages = []\n",
    "\n",
    "#BCFF11\n",
    "pages.append(\"https://au.investing.com/equities/bb-renda-corporativa\")\n",
    "#ITUB4\n",
    "pages.append(\"https://au.investing.com/equities/itauunibanco-pn-edj-n1\")\n",
    "\n",
    "display(pages)"
   ]
  },
  {
   "cell_type": "markdown",
   "metadata": {},
   "source": [
    "#### Now using the html on the page we can get the information on the tables.\n",
    "\n",
    "The structure for a table on this website is the following\n",
    "\n",
    "    div Class - table - stock_table\n",
    "\n",
    "        dl - section\n",
    "\n",
    "            div - row\n",
    "            \n",
    "                dt - header\n",
    "                dd - value"
   ]
  },
  {
   "cell_type": "code",
   "execution_count": 7,
   "metadata": {},
   "outputs": [
    {
     "data": {
      "text/plain": [
       "['Prev. Close',\n",
       " 'Open',\n",
       " \"Day's Range\",\n",
       " '52 wk Range',\n",
       " 'Volume',\n",
       " 'Average Volume (3m)',\n",
       " '1-Year Change',\n",
       " 'Shares Outstanding',\n",
       " 'Market Cap',\n",
       " 'Revenue',\n",
       " 'P/E Ratio',\n",
       " 'EPS',\n",
       " 'Dividend (Yield)',\n",
       " 'Beta',\n",
       " 'Next Earnings Date',\n",
       " 'ISIN']"
      ]
     },
     "metadata": {},
     "output_type": "display_data"
    }
   ],
   "source": [
    "header = []\n",
    "\n",
    "header_page = pages[0]\n",
    "\n",
    "webpage = requests.get(header_page)\n",
    "soup = bs(webpage.text, \"html.parser\")\n",
    "\n",
    "#for each html get the table from class and get each row with header and value\n",
    "stock_table = soup.find(class_=\"sm:flex md:border-r border-r-[#e6e9eb] md:pr-8 text-xs leading-4 sm:h-75 flex-1 md:mr-8\")\n",
    "rows = stock_table.find_all('div')\n",
    "\n",
    "for each_row in rows:\n",
    "        #List with each header on dt\n",
    "        dt_list = each_row.find_all('dt')\n",
    "\n",
    "        #this array will contain the text of each header\n",
    "        txt_header = []\n",
    "\n",
    "        for each_dt in dt_list:\n",
    "            new = each_dt.text.strip()\n",
    "            txt_header.append(new)\n",
    "        \n",
    "        #this will be an array of arrays with all values from different tables\n",
    "        header.append(txt_header)\n",
    "\n",
    "#turn the list of lists into a simple array\n",
    "header_list = [item for sublist in header for item in sublist]\n",
    "\n",
    "#header_list.remove('Bid/Ask')\n",
    "\n",
    "display(header_list)"
   ]
  },
  {
   "cell_type": "code",
   "execution_count": 20,
   "metadata": {},
   "outputs": [
    {
     "ename": "AttributeError",
     "evalue": "ResultSet object has no attribute 'find'. You're probably treating a list of elements like a single element. Did you call find_all() when you meant to call find()?",
     "output_type": "error",
     "traceback": [
      "\u001b[1;31m---------------------------------------------------------------------------\u001b[0m",
      "\u001b[1;31mAttributeError\u001b[0m                            Traceback (most recent call last)",
      "Cell \u001b[1;32mIn[20], line 10\u001b[0m\n\u001b[0;32m      8\u001b[0m \u001b[39m#for each html get the table from class and get each row with header and value\u001b[39;00m\n\u001b[0;32m      9\u001b[0m stock_table \u001b[39m=\u001b[39m soup\u001b[39m.\u001b[39mfind_all(\u001b[39m'\u001b[39m\u001b[39mdiv\u001b[39m\u001b[39m'\u001b[39m)\n\u001b[1;32m---> 10\u001b[0m s1 \u001b[39m=\u001b[39m stock_table\u001b[39m.\u001b[39;49mfind(class_\u001b[39m=\u001b[39m\u001b[39m\"\u001b[39m\u001b[39msm:flex md:border-r border-r-[#e6e9eb] md:pr-8 text-xs leading-4 sm:h-75 flex-1 md:mr-8\u001b[39m\u001b[39m\"\u001b[39m)\n\u001b[0;32m     11\u001b[0m display(s1)\n\u001b[0;32m     12\u001b[0m rows \u001b[39m=\u001b[39m s1\u001b[39m.\u001b[39mfind_all(\u001b[39m'\u001b[39m\u001b[39mdiv\u001b[39m\u001b[39m'\u001b[39m)\n",
      "File \u001b[1;32mc:\\Users\\bia_n\\Coding\\stockmarket\\env\\Lib\\site-packages\\bs4\\element.py:2428\u001b[0m, in \u001b[0;36mResultSet.__getattr__\u001b[1;34m(self, key)\u001b[0m\n\u001b[0;32m   2426\u001b[0m \u001b[39mdef\u001b[39;00m \u001b[39m__getattr__\u001b[39m(\u001b[39mself\u001b[39m, key):\n\u001b[0;32m   2427\u001b[0m \u001b[39m    \u001b[39m\u001b[39m\"\"\"Raise a helpful exception to explain a common code fix.\"\"\"\u001b[39;00m\n\u001b[1;32m-> 2428\u001b[0m     \u001b[39mraise\u001b[39;00m \u001b[39mAttributeError\u001b[39;00m(\n\u001b[0;32m   2429\u001b[0m         \u001b[39m\"\u001b[39m\u001b[39mResultSet object has no attribute \u001b[39m\u001b[39m'\u001b[39m\u001b[39m%s\u001b[39;00m\u001b[39m'\u001b[39m\u001b[39m. You\u001b[39m\u001b[39m'\u001b[39m\u001b[39mre probably treating a list of elements like a single element. Did you call find_all() when you meant to call find()?\u001b[39m\u001b[39m\"\u001b[39m \u001b[39m%\u001b[39m key\n\u001b[0;32m   2430\u001b[0m     )\n",
      "\u001b[1;31mAttributeError\u001b[0m: ResultSet object has no attribute 'find'. You're probably treating a list of elements like a single element. Did you call find_all() when you meant to call find()?"
     ]
    }
   ],
   "source": [
    "values_list = []\n",
    "\n",
    "#for each page get the html\n",
    "for page in pages:\n",
    "    webpage = requests.get(page)\n",
    "    soup = bs(webpage.text, \"html.parser\")\n",
    "\n",
    "    #for each html get the table from class and get each row with header and value\n",
    "    stock_table = soup.find_all('div')\n",
    "    s1 = stock_table.find(class_=\"sm:flex md:border-r border-r-[#e6e9eb] md:pr-8 text-xs leading-4 sm:h-75 flex-1 md:mr-8\")\n",
    "    display(s1)\n",
    "    rows = s1.find_all('div')\n",
    "\n",
    "    values = []\n",
    "    for each_row in rows:\n",
    "        #List with each Value on dd\n",
    "        dd_list = each_row.find_all('dd')\n",
    "\n",
    "        #this array will contain the text of each value\n",
    "        txt_values = []\n",
    "        \n",
    "        for each_dd in dd_list:\n",
    "            new = each_dd.text.strip()\n",
    "            txt_values.append(new)\n",
    "\n",
    "        #this will be an array of arrays with all values from different tables\n",
    "        values.append(txt_values)\n",
    "\n",
    "    values_page = [item for sublist in values for item in sublist]\n",
    "    values_list.append(values_page)\n",
    "\n",
    "display(stock_table)\n",
    "display(values_list)"
   ]
  },
  {
   "cell_type": "code",
   "execution_count": 12,
   "metadata": {},
   "outputs": [
    {
     "data": {
      "text/html": [
       "<div>\n",
       "<style scoped>\n",
       "    .dataframe tbody tr th:only-of-type {\n",
       "        vertical-align: middle;\n",
       "    }\n",
       "\n",
       "    .dataframe tbody tr th {\n",
       "        vertical-align: top;\n",
       "    }\n",
       "\n",
       "    .dataframe thead th {\n",
       "        text-align: right;\n",
       "    }\n",
       "</style>\n",
       "<table border=\"1\" class=\"dataframe\">\n",
       "  <thead>\n",
       "    <tr style=\"text-align: right;\">\n",
       "      <th></th>\n",
       "      <th>Prev. Close</th>\n",
       "      <th>Open</th>\n",
       "      <th>Day's Range</th>\n",
       "      <th>52 wk Range</th>\n",
       "      <th>Volume</th>\n",
       "      <th>Average Volume (3m)</th>\n",
       "      <th>1-Year Change</th>\n",
       "      <th>Shares Outstanding</th>\n",
       "      <th>Market Cap</th>\n",
       "      <th>Revenue</th>\n",
       "      <th>P/E Ratio</th>\n",
       "      <th>EPS</th>\n",
       "      <th>Dividend (Yield)</th>\n",
       "      <th>Beta</th>\n",
       "      <th>Next Earnings Date</th>\n",
       "      <th>ISIN</th>\n",
       "    </tr>\n",
       "  </thead>\n",
       "  <tbody>\n",
       "    <tr>\n",
       "      <th>0</th>\n",
       "      <td>72.9</td>\n",
       "      <td>72.8</td>\n",
       "      <td>71.52-72.9</td>\n",
       "      <td>60.54-77.55</td>\n",
       "      <td>43,870</td>\n",
       "      <td>39,573</td>\n",
       "      <td>2.32%</td>\n",
       "      <td>25,186,378</td>\n",
       "      <td>1.81B</td>\n",
       "      <td>90.75M</td>\n",
       "      <td>29.26</td>\n",
       "      <td>2.45</td>\n",
       "      <td>6.72(9.22%)</td>\n",
       "      <td>0.314</td>\n",
       "      <td>-</td>\n",
       "      <td>BRBCFFCTF000</td>\n",
       "    </tr>\n",
       "    <tr>\n",
       "      <th>1</th>\n",
       "      <td>27.75</td>\n",
       "      <td>27.8</td>\n",
       "      <td>27.47-27.97</td>\n",
       "      <td>22.62-31.29</td>\n",
       "      <td>30,122,000</td>\n",
       "      <td>25,980,169</td>\n",
       "      <td>3.54%</td>\n",
       "      <td>9,799,944,273</td>\n",
       "      <td>251.12B</td>\n",
       "      <td>118.94B</td>\n",
       "      <td>8.40</td>\n",
       "      <td>3.24</td>\n",
       "      <td>1.0423(3.76%)</td>\n",
       "      <td>0.42</td>\n",
       "      <td>05 Nov 2023</td>\n",
       "      <td>BRITUBACNPR1</td>\n",
       "    </tr>\n",
       "  </tbody>\n",
       "</table>\n",
       "</div>"
      ],
      "text/plain": [
       "  Prev. Close  Open  Day's Range  52 wk Range      Volume Average Volume (3m)  \\\n",
       "0        72.9  72.8   71.52-72.9  60.54-77.55      43,870              39,573   \n",
       "1       27.75  27.8  27.47-27.97  22.62-31.29  30,122,000          25,980,169   \n",
       "\n",
       "  1-Year Change Shares Outstanding Market Cap  Revenue P/E Ratio   EPS  \\\n",
       "0         2.32%         25,186,378      1.81B   90.75M     29.26  2.45   \n",
       "1         3.54%      9,799,944,273    251.12B  118.94B      8.40  3.24   \n",
       "\n",
       "  Dividend (Yield)   Beta Next Earnings Date          ISIN  \n",
       "0      6.72(9.22%)  0.314                  -  BRBCFFCTF000  \n",
       "1    1.0423(3.76%)   0.42        05 Nov 2023  BRITUBACNPR1  "
      ]
     },
     "metadata": {},
     "output_type": "display_data"
    }
   ],
   "source": [
    "df = pd.DataFrame(values_list, columns=header_list)\n",
    "\n",
    "display(df)"
   ]
  }
 ],
 "metadata": {
  "kernelspec": {
   "display_name": "env",
   "language": "python",
   "name": "python3"
  },
  "language_info": {
   "codemirror_mode": {
    "name": "ipython",
    "version": 3
   },
   "file_extension": ".py",
   "mimetype": "text/x-python",
   "name": "python",
   "nbconvert_exporter": "python",
   "pygments_lexer": "ipython3",
   "version": "3.11.1"
  },
  "orig_nbformat": 4
 },
 "nbformat": 4,
 "nbformat_minor": 2
}
